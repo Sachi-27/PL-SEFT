{
 "cells": [
  {
   "cell_type": "code",
   "execution_count": null,
   "metadata": {},
   "outputs": [
    {
     "data": {
      "text/plain": [
       "{'instruction': 'Translate the following sentence from Hindi to English.',\n",
       " 'input': 'टोक्यो गेम शो में गुरूवार को निन्टेन्डो के अध्यक्ष सटोरू इवाता ने कंपनी के रिवोल्यूशन कंसोल के लिए कंट्रोलर डिजाइन का अनावरण किया.',\n",
       " 'output': \"At Thursday's keynote presentation of the Tokyo Game Show, Nintendo president Satoru Iwata unveiled the controller design for the company's new Nintendo Revolution console.\"}"
      ]
     },
     "execution_count": 3,
     "metadata": {},
     "output_type": "execute_result"
    }
   ],
   "source": [
    "import json\n",
    "\n",
    "file_path = \"flores_hi_en_test.json\"\n",
    "with open(file_path, \"r\") as file:\n",
    "    data = json.load(file)[\"examples\"]\n",
    "\n",
    "required_format = []\n",
    "for i in range(len(data)):\n",
    "    required_format.append({\n",
    "        \"instruction\": \"Translate the following sentence from Hindi to English.\",\n",
    "        \"input\": data[i]['source'],\n",
    "        \"output\": data[i]['target']\n",
    "    })\n",
    "    \n",
    "required_format[0]"
   ]
  },
  {
   "cell_type": "code",
   "execution_count": 5,
   "metadata": {},
   "outputs": [],
   "source": [
    "with open(\"flores_hi.json\", \"w\") as file:\n",
    "    json.dump(required_format, file, indent=4, ensure_ascii=False)"
   ]
  },
  {
   "cell_type": "code",
   "execution_count": null,
   "metadata": {},
   "outputs": [],
   "source": []
  }
 ],
 "metadata": {
  "kernelspec": {
   "display_name": "menv",
   "language": "python",
   "name": "python3"
  },
  "language_info": {
   "codemirror_mode": {
    "name": "ipython",
    "version": 3
   },
   "file_extension": ".py",
   "mimetype": "text/x-python",
   "name": "python",
   "nbconvert_exporter": "python",
   "pygments_lexer": "ipython3",
   "version": "3.11.5"
  }
 },
 "nbformat": 4,
 "nbformat_minor": 2
}
